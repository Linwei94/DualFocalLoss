{
 "cells": [
  {
   "cell_type": "code",
   "execution_count": 56,
   "metadata": {},
   "outputs": [],
   "source": [
    "import glob\n",
    "import os\n",
    "import shutil"
   ]
  },
  {
   "cell_type": "code",
   "execution_count": 57,
   "metadata": {},
   "outputs": [
    {
     "name": "stdout",
     "output_type": "stream",
     "text": [
      "/research3/arindam.ghosh/focal_calibration/Data\n"
     ]
    }
   ],
   "source": [
    "!pwd"
   ]
  },
  {
   "cell_type": "code",
   "execution_count": 59,
   "metadata": {},
   "outputs": [],
   "source": [
    "train_dir = '/research3/arindam.ghosh/focal_calibration/data/tiny-imagenet-200/train'\n",
    "train_val_dir = '/research3/arindam.ghosh/focal_calibration/data/tiny-imagenet-200/train_val'\n",
    "\n",
    "class_dirs = glob.glob(train_dir+'/*')\n",
    "for class_dir in class_dirs:\n",
    "    class_name = class_dir.split('/')[-1]\n",
    "    # Find all the training images belonging to this class\n",
    "    image_paths_500 = glob.glob(class_dir+'/images/*')\n",
    "    image_paths_train = []\n",
    "    image_paths_train_val = []\n",
    "    for image_path in image_paths_500:\n",
    "        image_num = image_path.split('/')[-1].split('.')[0].split('_')[1] # /research3/arindam.ghosh/focal_calibration/data/tiny-imagenet-200/train/n01770393/images/n01770393_176.JPEG\n",
    "        if int(image_num) < 450:\n",
    "            image_paths_train.append(image_path)\n",
    "        else:\n",
    "            image_paths_train_val.append(image_path)\n",
    "    # Move the images to test directory\n",
    "    dest_dir = train_val_dir + '/' + class_name + '/images'\n",
    "    if not os.path.isdir(dest_dir):\n",
    "        os.makedirs(dest_dir, exist_ok=True)\n",
    "    for image_path in image_paths_train_val:\n",
    "        image_file = image_path.split('/')[-1]       \n",
    "        shutil.move(image_path, dest_dir+'/'+image_file)"
   ]
  }
 ],
 "metadata": {
  "kernelspec": {
   "display_name": "Python 3",
   "language": "python",
   "name": "python3"
  },
  "language_info": {
   "codemirror_mode": {
    "name": "ipython",
    "version": 3
   },
   "file_extension": ".py",
   "mimetype": "text/x-python",
   "name": "python",
   "nbconvert_exporter": "python",
   "pygments_lexer": "ipython3",
   "version": "3.8.6"
  }
 },
 "nbformat": 4,
 "nbformat_minor": 4
}
